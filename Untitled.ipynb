{
 "cells": [
  {
   "cell_type": "code",
   "execution_count": 60,
   "metadata": {},
   "outputs": [
    {
     "data": {
      "text/plain": [
       "<_io.TextIOWrapper name='/home/glue/template.txt' mode='r' encoding='UTF-8'>"
      ]
     },
     "execution_count": 60,
     "metadata": {},
     "output_type": "execute_result"
    }
   ],
   "source": [
    "#FINAL FILE\n",
    "\n",
    "regnskaber = open(\"/home/glue/template_2\", \"r\").readlines()   #[regnskab1, regnskab2]\n",
    "\n",
    "def gentagn(regnskab):\n",
    "    FINAL_FILE.append(\"text\" + regnskab + \"text\")\n",
    "    FINAL_FILE.append(\"text\" + regnskab + \"text\")\n",
    "    FINAL_FILE.append(\"text\" + regnskab + \"text\")\n",
    "        \n",
    "\n",
    "with open(\"/home/glue/FINAL_FILE.txt\", \"w\") as new:\n",
    "    header = open(\"/home/glue/template_2\", \"r\").readlines()   # DEL AF LISTEN\n",
    "\n",
    "    \n",
    "    template2 = open(\"/home/glue/template_2\", \"r\").readlines()   # DEL AF LISTEN\n",
    "    \n",
    "    \n",
    "    FINAL_FILE = header1\n",
    "    \n",
    "    #template1\n",
    "    for regnskab in regnskaber:    \n",
    "        FINAL_FILE.append(template1)\n",
    "        gentagn(regnskab)\n",
    "        \n",
    "        if regnskab != regnskaber[-1]:\n",
    "            FINAL_FILE.append(\"union \\n\")\n",
    "    \n",
    "    \n",
    "    #template2\n",
    "    for værdi in værdier:    \n",
    "        FINAL_FILE.append(template2)\n",
    "        gentagn(regnskab)\n",
    "\n",
    "    \n",
    "    new.writelines(#LIST)\n"
   ]
  },
  {
   "cell_type": "code",
   "execution_count": 4,
   "metadata": {},
   "outputs": [
    {
     "data": {
      "text/plain": [
       "['1\\n', '2\\n', '3\\n', '4\\n', '5\\n', '6\\n']"
      ]
     },
     "execution_count": 4,
     "metadata": {},
     "output_type": "execute_result"
    }
   ],
   "source": [
    "list(open(\"/home/glue/template_2\"))"
   ]
  }
 ],
 "metadata": {
  "kernelspec": {
   "display_name": "Python 3",
   "language": "python",
   "name": "python3"
  },
  "language_info": {
   "codemirror_mode": {
    "name": "ipython",
    "version": 3
   },
   "file_extension": ".py",
   "mimetype": "text/x-python",
   "name": "python",
   "nbconvert_exporter": "python",
   "pygments_lexer": "ipython3",
   "version": "3.6.3"
  }
 },
 "nbformat": 4,
 "nbformat_minor": 2
}
